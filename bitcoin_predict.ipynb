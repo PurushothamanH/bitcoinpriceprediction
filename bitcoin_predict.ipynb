{
 "cells": [
  {
   "cell_type": "code",
   "execution_count": 2,
   "id": "0a8006d3",
   "metadata": {},
   "outputs": [],
   "source": [
    "import pandas as pd\n",
    "import numpy as np\n",
    "import matplotlib.pyplot as plt\n",
    "import seaborn as sns\n",
    "import datetime as dt"
   ]
  },
  {
   "cell_type": "code",
   "execution_count": 3,
   "id": "db715bd4",
   "metadata": {},
   "outputs": [
    {
     "data": {
      "text/html": [
       "<div>\n",
       "<style scoped>\n",
       "    .dataframe tbody tr th:only-of-type {\n",
       "        vertical-align: middle;\n",
       "    }\n",
       "\n",
       "    .dataframe tbody tr th {\n",
       "        vertical-align: top;\n",
       "    }\n",
       "\n",
       "    .dataframe thead th {\n",
       "        text-align: right;\n",
       "    }\n",
       "</style>\n",
       "<table border=\"1\" class=\"dataframe\">\n",
       "  <thead>\n",
       "    <tr style=\"text-align: right;\">\n",
       "      <th></th>\n",
       "      <th>Date</th>\n",
       "      <th>Open</th>\n",
       "      <th>High</th>\n",
       "      <th>Low</th>\n",
       "      <th>Close</th>\n",
       "      <th>Adj Close</th>\n",
       "      <th>Volume</th>\n",
       "    </tr>\n",
       "  </thead>\n",
       "  <tbody>\n",
       "    <tr>\n",
       "      <th>0</th>\n",
       "      <td>17-09-2014</td>\n",
       "      <td>465.864014</td>\n",
       "      <td>468.174011</td>\n",
       "      <td>452.421997</td>\n",
       "      <td>457.334015</td>\n",
       "      <td>457.334015</td>\n",
       "      <td>21056800.0</td>\n",
       "    </tr>\n",
       "    <tr>\n",
       "      <th>1</th>\n",
       "      <td>18-09-2014</td>\n",
       "      <td>456.859985</td>\n",
       "      <td>456.859985</td>\n",
       "      <td>413.104004</td>\n",
       "      <td>424.440002</td>\n",
       "      <td>424.440002</td>\n",
       "      <td>34483200.0</td>\n",
       "    </tr>\n",
       "    <tr>\n",
       "      <th>2</th>\n",
       "      <td>19-09-2014</td>\n",
       "      <td>424.102997</td>\n",
       "      <td>427.834991</td>\n",
       "      <td>384.532013</td>\n",
       "      <td>394.795990</td>\n",
       "      <td>394.795990</td>\n",
       "      <td>37919700.0</td>\n",
       "    </tr>\n",
       "    <tr>\n",
       "      <th>3</th>\n",
       "      <td>20-09-2014</td>\n",
       "      <td>394.673004</td>\n",
       "      <td>423.295990</td>\n",
       "      <td>389.882996</td>\n",
       "      <td>408.903992</td>\n",
       "      <td>408.903992</td>\n",
       "      <td>36863600.0</td>\n",
       "    </tr>\n",
       "    <tr>\n",
       "      <th>4</th>\n",
       "      <td>21-09-2014</td>\n",
       "      <td>408.084991</td>\n",
       "      <td>412.425995</td>\n",
       "      <td>393.181000</td>\n",
       "      <td>398.821014</td>\n",
       "      <td>398.821014</td>\n",
       "      <td>26580100.0</td>\n",
       "    </tr>\n",
       "  </tbody>\n",
       "</table>\n",
       "</div>"
      ],
      "text/plain": [
       "         Date        Open        High         Low       Close   Adj Close  \\\n",
       "0  17-09-2014  465.864014  468.174011  452.421997  457.334015  457.334015   \n",
       "1  18-09-2014  456.859985  456.859985  413.104004  424.440002  424.440002   \n",
       "2  19-09-2014  424.102997  427.834991  384.532013  394.795990  394.795990   \n",
       "3  20-09-2014  394.673004  423.295990  389.882996  408.903992  408.903992   \n",
       "4  21-09-2014  408.084991  412.425995  393.181000  398.821014  398.821014   \n",
       "\n",
       "       Volume  \n",
       "0  21056800.0  \n",
       "1  34483200.0  \n",
       "2  37919700.0  \n",
       "3  36863600.0  \n",
       "4  26580100.0  "
      ]
     },
     "execution_count": 3,
     "metadata": {},
     "output_type": "execute_result"
    }
   ],
   "source": [
    "df=pd.read_csv('Bitcoin.csv')\n",
    "df.head()"
   ]
  },
  {
   "cell_type": "code",
   "execution_count": 4,
   "id": "24c6aa37",
   "metadata": {},
   "outputs": [
    {
     "data": {
      "text/plain": [
       "Date         0\n",
       "Open         0\n",
       "High         0\n",
       "Low          0\n",
       "Close        0\n",
       "Adj Close    0\n",
       "Volume       0\n",
       "dtype: int64"
      ]
     },
     "execution_count": 4,
     "metadata": {},
     "output_type": "execute_result"
    }
   ],
   "source": [
    "df.isnull().sum()"
   ]
  },
  {
   "cell_type": "code",
   "execution_count": 5,
   "id": "1e77b3f1",
   "metadata": {},
   "outputs": [
    {
     "name": "stderr",
     "output_type": "stream",
     "text": [
      "C:\\Users\\Purushoth\\AppData\\Local\\Temp\\ipykernel_17764\\1380596044.py:1: UserWarning: Parsing dates in DD/MM/YYYY format when dayfirst=False (the default) was specified. This may lead to inconsistently parsed dates! Specify a format to ensure consistent parsing.\n",
      "  df[\"Date\"]=pd.to_datetime(df[\"Date\"])\n"
     ]
    }
   ],
   "source": [
    "df[\"Date\"]=pd.to_datetime(df[\"Date\"])"
   ]
  },
  {
   "cell_type": "code",
   "execution_count": 6,
   "id": "df7dbdc1",
   "metadata": {},
   "outputs": [
    {
     "name": "stdout",
     "output_type": "stream",
     "text": [
      "<class 'pandas.core.frame.DataFrame'>\n",
      "RangeIndex: 2683 entries, 0 to 2682\n",
      "Data columns (total 7 columns):\n",
      " #   Column     Non-Null Count  Dtype         \n",
      "---  ------     --------------  -----         \n",
      " 0   Date       2683 non-null   datetime64[ns]\n",
      " 1   Open       2683 non-null   float64       \n",
      " 2   High       2683 non-null   float64       \n",
      " 3   Low        2683 non-null   float64       \n",
      " 4   Close      2683 non-null   float64       \n",
      " 5   Adj Close  2683 non-null   float64       \n",
      " 6   Volume     2683 non-null   float64       \n",
      "dtypes: datetime64[ns](1), float64(6)\n",
      "memory usage: 146.9 KB\n"
     ]
    }
   ],
   "source": [
    "df.info()"
   ]
  },
  {
   "cell_type": "code",
   "execution_count": 7,
   "id": "16b8267e",
   "metadata": {},
   "outputs": [],
   "source": [
    "df['year']=df['Date'].dt.year\n",
    "df['month']=df['Date'].dt.month\n",
    "df['date']=df['Date'].dt.day"
   ]
  },
  {
   "cell_type": "code",
   "execution_count": 8,
   "id": "00587484",
   "metadata": {},
   "outputs": [],
   "source": [
    "df.drop('Date',axis=1,inplace=True)"
   ]
  },
  {
   "cell_type": "code",
   "execution_count": 9,
   "id": "45511e96",
   "metadata": {},
   "outputs": [
    {
     "data": {
      "text/plain": [
       "Open         0\n",
       "High         0\n",
       "Low          0\n",
       "Close        0\n",
       "Adj Close    0\n",
       "Volume       0\n",
       "year         0\n",
       "month        0\n",
       "date         0\n",
       "dtype: int64"
      ]
     },
     "execution_count": 9,
     "metadata": {},
     "output_type": "execute_result"
    }
   ],
   "source": [
    "df.isnull().sum()"
   ]
  },
  {
   "cell_type": "code",
   "execution_count": 10,
   "id": "697ff1fc",
   "metadata": {},
   "outputs": [
    {
     "data": {
      "text/plain": [
       "['year', 'month', 'date']"
      ]
     },
     "execution_count": 10,
     "metadata": {},
     "output_type": "execute_result"
    }
   ],
   "source": [
    "[features for features in df.columns if df[features].dtype==\"int64\"]"
   ]
  },
  {
   "cell_type": "code",
   "execution_count": 11,
   "id": "3556fdcc",
   "metadata": {},
   "outputs": [
    {
     "data": {
      "text/plain": [
       "0"
      ]
     },
     "execution_count": 11,
     "metadata": {},
     "output_type": "execute_result"
    }
   ],
   "source": [
    "## there is no duplicate values...\n",
    "df.duplicated().sum()"
   ]
  },
  {
   "cell_type": "code",
   "execution_count": 12,
   "id": "131f331a",
   "metadata": {},
   "outputs": [
    {
     "data": {
      "text/html": [
       "<div>\n",
       "<style scoped>\n",
       "    .dataframe tbody tr th:only-of-type {\n",
       "        vertical-align: middle;\n",
       "    }\n",
       "\n",
       "    .dataframe tbody tr th {\n",
       "        vertical-align: top;\n",
       "    }\n",
       "\n",
       "    .dataframe thead th {\n",
       "        text-align: right;\n",
       "    }\n",
       "</style>\n",
       "<table border=\"1\" class=\"dataframe\">\n",
       "  <thead>\n",
       "    <tr style=\"text-align: right;\">\n",
       "      <th></th>\n",
       "      <th>Open</th>\n",
       "      <th>High</th>\n",
       "      <th>Low</th>\n",
       "      <th>Close</th>\n",
       "      <th>Adj Close</th>\n",
       "      <th>Volume</th>\n",
       "      <th>year</th>\n",
       "      <th>month</th>\n",
       "      <th>date</th>\n",
       "    </tr>\n",
       "  </thead>\n",
       "  <tbody>\n",
       "    <tr>\n",
       "      <th>0</th>\n",
       "      <td>465.864014</td>\n",
       "      <td>468.174011</td>\n",
       "      <td>452.421997</td>\n",
       "      <td>457.334015</td>\n",
       "      <td>457.334015</td>\n",
       "      <td>21056800.0</td>\n",
       "      <td>2014</td>\n",
       "      <td>9</td>\n",
       "      <td>17</td>\n",
       "    </tr>\n",
       "    <tr>\n",
       "      <th>1</th>\n",
       "      <td>456.859985</td>\n",
       "      <td>456.859985</td>\n",
       "      <td>413.104004</td>\n",
       "      <td>424.440002</td>\n",
       "      <td>424.440002</td>\n",
       "      <td>34483200.0</td>\n",
       "      <td>2014</td>\n",
       "      <td>9</td>\n",
       "      <td>18</td>\n",
       "    </tr>\n",
       "    <tr>\n",
       "      <th>2</th>\n",
       "      <td>424.102997</td>\n",
       "      <td>427.834991</td>\n",
       "      <td>384.532013</td>\n",
       "      <td>394.795990</td>\n",
       "      <td>394.795990</td>\n",
       "      <td>37919700.0</td>\n",
       "      <td>2014</td>\n",
       "      <td>9</td>\n",
       "      <td>19</td>\n",
       "    </tr>\n",
       "    <tr>\n",
       "      <th>3</th>\n",
       "      <td>394.673004</td>\n",
       "      <td>423.295990</td>\n",
       "      <td>389.882996</td>\n",
       "      <td>408.903992</td>\n",
       "      <td>408.903992</td>\n",
       "      <td>36863600.0</td>\n",
       "      <td>2014</td>\n",
       "      <td>9</td>\n",
       "      <td>20</td>\n",
       "    </tr>\n",
       "    <tr>\n",
       "      <th>4</th>\n",
       "      <td>408.084991</td>\n",
       "      <td>412.425995</td>\n",
       "      <td>393.181000</td>\n",
       "      <td>398.821014</td>\n",
       "      <td>398.821014</td>\n",
       "      <td>26580100.0</td>\n",
       "      <td>2014</td>\n",
       "      <td>9</td>\n",
       "      <td>21</td>\n",
       "    </tr>\n",
       "  </tbody>\n",
       "</table>\n",
       "</div>"
      ],
      "text/plain": [
       "         Open        High         Low       Close   Adj Close      Volume  \\\n",
       "0  465.864014  468.174011  452.421997  457.334015  457.334015  21056800.0   \n",
       "1  456.859985  456.859985  413.104004  424.440002  424.440002  34483200.0   \n",
       "2  424.102997  427.834991  384.532013  394.795990  394.795990  37919700.0   \n",
       "3  394.673004  423.295990  389.882996  408.903992  408.903992  36863600.0   \n",
       "4  408.084991  412.425995  393.181000  398.821014  398.821014  26580100.0   \n",
       "\n",
       "   year  month  date  \n",
       "0  2014      9    17  \n",
       "1  2014      9    18  \n",
       "2  2014      9    19  \n",
       "3  2014      9    20  \n",
       "4  2014      9    21  "
      ]
     },
     "execution_count": 12,
     "metadata": {},
     "output_type": "execute_result"
    }
   ],
   "source": [
    "df.head()"
   ]
  },
  {
   "cell_type": "code",
   "execution_count": 13,
   "id": "cef26eb7",
   "metadata": {},
   "outputs": [
    {
     "data": {
      "text/plain": [
       "<Axes: xlabel='year', ylabel='Volume'>"
      ]
     },
     "execution_count": 13,
     "metadata": {},
     "output_type": "execute_result"
    },
    {
     "data": {
      "image/png": "[encoded data removed]",
      "text/plain": [
       "<Figure size 640x480 with 1 Axes>"
      ]
     },
     "metadata": {},
     "output_type": "display_data"
    }
   ],
   "source": [
    "sns.barplot(data=df,x='year',y='Volume')"
   ]
  },
  {
   "cell_type": "code",
   "execution_count": 14,
   "id": "181e9843",
   "metadata": {},
   "outputs": [
    {
     "data": {
      "text/plain": [
       "<Axes: xlabel='month', ylabel='Volume'>"
      ]
     },
     "execution_count": 14,
     "metadata": {},
     "output_type": "execute_result"
    },
    {
     "data": {
      "image/png": "[encoded data removed]",
      "text/plain": [
       "<Figure size 640x480 with 1 Axes>"
      ]
     },
     "metadata": {},
     "output_type": "display_data"
    }
   ],
   "source": [
    "sns.barplot(data=df,x='month',y='Volume')"
   ]
  },
  {
   "cell_type": "code",
   "execution_count": 15,
   "id": "52d74df8",
   "metadata": {},
   "outputs": [
    {
     "data": {
      "text/plain": [
       "<Axes: xlabel='month', ylabel='Close'>"
      ]
     },
     "execution_count": 15,
     "metadata": {},
     "output_type": "execute_result"
    },
    {
     "data": {
      "image/png": "[encoded data removed]",
      "text/plain": [
       "<Figure size 640x480 with 1 Axes>"
      ]
     },
     "metadata": {},
     "output_type": "display_data"
    }
   ],
   "source": [
    "sns.barplot(data=df,x='month',y='Close')"
   ]
  },
  {
   "cell_type": "code",
   "execution_count": 16,
   "id": "edab1f0c",
   "metadata": {},
   "outputs": [],
   "source": [
    "from sklearn.model_selection import train_test_split"
   ]
  },
  {
   "cell_type": "code",
   "execution_count": 17,
   "id": "9253f7c4",
   "metadata": {},
   "outputs": [
    {
     "data": {
      "text/html": [
       "<div>\n",
       "<style scoped>\n",
       "    .dataframe tbody tr th:only-of-type {\n",
       "        vertical-align: middle;\n",
       "    }\n",
       "\n",
       "    .dataframe tbody tr th {\n",
       "        vertical-align: top;\n",
       "    }\n",
       "\n",
       "    .dataframe thead th {\n",
       "        text-align: right;\n",
       "    }\n",
       "</style>\n",
       "<table border=\"1\" class=\"dataframe\">\n",
       "  <thead>\n",
       "    <tr style=\"text-align: right;\">\n",
       "      <th></th>\n",
       "      <th>Open</th>\n",
       "      <th>High</th>\n",
       "      <th>Low</th>\n",
       "      <th>Close</th>\n",
       "      <th>Adj Close</th>\n",
       "      <th>Volume</th>\n",
       "      <th>year</th>\n",
       "      <th>month</th>\n",
       "      <th>date</th>\n",
       "    </tr>\n",
       "  </thead>\n",
       "  <tbody>\n",
       "    <tr>\n",
       "      <th>Open</th>\n",
       "      <td>1.000000</td>\n",
       "      <td>0.999535</td>\n",
       "      <td>0.999096</td>\n",
       "      <td>0.998846</td>\n",
       "      <td>0.998846</td>\n",
       "      <td>0.733541</td>\n",
       "      <td>0.743665</td>\n",
       "      <td>0.024622</td>\n",
       "      <td>-0.010378</td>\n",
       "    </tr>\n",
       "    <tr>\n",
       "      <th>High</th>\n",
       "      <td>0.999535</td>\n",
       "      <td>1.000000</td>\n",
       "      <td>0.999042</td>\n",
       "      <td>0.999496</td>\n",
       "      <td>0.999496</td>\n",
       "      <td>0.737056</td>\n",
       "      <td>0.743379</td>\n",
       "      <td>0.023567</td>\n",
       "      <td>-0.010515</td>\n",
       "    </tr>\n",
       "    <tr>\n",
       "      <th>Low</th>\n",
       "      <td>0.999096</td>\n",
       "      <td>0.999042</td>\n",
       "      <td>1.000000</td>\n",
       "      <td>0.999400</td>\n",
       "      <td>0.999400</td>\n",
       "      <td>0.726051</td>\n",
       "      <td>0.744496</td>\n",
       "      <td>0.025873</td>\n",
       "      <td>-0.010478</td>\n",
       "    </tr>\n",
       "    <tr>\n",
       "      <th>Close</th>\n",
       "      <td>0.998846</td>\n",
       "      <td>0.999496</td>\n",
       "      <td>0.999400</td>\n",
       "      <td>1.000000</td>\n",
       "      <td>1.000000</td>\n",
       "      <td>0.732466</td>\n",
       "      <td>0.744054</td>\n",
       "      <td>0.024105</td>\n",
       "      <td>-0.011216</td>\n",
       "    </tr>\n",
       "    <tr>\n",
       "      <th>Adj Close</th>\n",
       "      <td>0.998846</td>\n",
       "      <td>0.999496</td>\n",
       "      <td>0.999400</td>\n",
       "      <td>1.000000</td>\n",
       "      <td>1.000000</td>\n",
       "      <td>0.732466</td>\n",
       "      <td>0.744054</td>\n",
       "      <td>0.024105</td>\n",
       "      <td>-0.011216</td>\n",
       "    </tr>\n",
       "    <tr>\n",
       "      <th>Volume</th>\n",
       "      <td>0.733541</td>\n",
       "      <td>0.737056</td>\n",
       "      <td>0.726051</td>\n",
       "      <td>0.732466</td>\n",
       "      <td>0.732466</td>\n",
       "      <td>1.000000</td>\n",
       "      <td>0.769721</td>\n",
       "      <td>-0.055564</td>\n",
       "      <td>-0.022073</td>\n",
       "    </tr>\n",
       "    <tr>\n",
       "      <th>year</th>\n",
       "      <td>0.743665</td>\n",
       "      <td>0.743379</td>\n",
       "      <td>0.744496</td>\n",
       "      <td>0.744054</td>\n",
       "      <td>0.744054</td>\n",
       "      <td>0.769721</td>\n",
       "      <td>1.000000</td>\n",
       "      <td>-0.064602</td>\n",
       "      <td>-0.035689</td>\n",
       "    </tr>\n",
       "    <tr>\n",
       "      <th>month</th>\n",
       "      <td>0.024622</td>\n",
       "      <td>0.023567</td>\n",
       "      <td>0.025873</td>\n",
       "      <td>0.024105</td>\n",
       "      <td>0.024105</td>\n",
       "      <td>-0.055564</td>\n",
       "      <td>-0.064602</td>\n",
       "      <td>1.000000</td>\n",
       "      <td>0.031365</td>\n",
       "    </tr>\n",
       "    <tr>\n",
       "      <th>date</th>\n",
       "      <td>-0.010378</td>\n",
       "      <td>-0.010515</td>\n",
       "      <td>-0.010478</td>\n",
       "      <td>-0.011216</td>\n",
       "      <td>-0.011216</td>\n",
       "      <td>-0.022073</td>\n",
       "      <td>-0.035689</td>\n",
       "      <td>0.031365</td>\n",
       "      <td>1.000000</td>\n",
       "    </tr>\n",
       "  </tbody>\n",
       "</table>\n",
       "</div>"
      ],
      "text/plain": [
       "               Open      High       Low     Close  Adj Close    Volume  \\\n",
       "Open       1.000000  0.999535  0.999096  0.998846   0.998846  0.733541   \n",
       "High       0.999535  1.000000  0.999042  0.999496   0.999496  0.737056   \n",
       "Low        0.999096  0.999042  1.000000  0.999400   0.999400  0.726051   \n",
       "Close      0.998846  0.999496  0.999400  1.000000   1.000000  0.732466   \n",
       "Adj Close  0.998846  0.999496  0.999400  1.000000   1.000000  0.732466   \n",
       "Volume     0.733541  0.737056  0.726051  0.732466   0.732466  1.000000   \n",
       "year       0.743665  0.743379  0.744496  0.744054   0.744054  0.769721   \n",
       "month      0.024622  0.023567  0.025873  0.024105   0.024105 -0.055564   \n",
       "date      -0.010378 -0.010515 -0.010478 -0.011216  -0.011216 -0.022073   \n",
       "\n",
       "               year     month      date  \n",
       "Open       0.743665  0.024622 -0.010378  \n",
       "High       0.743379  0.023567 -0.010515  \n",
       "Low        0.744496  0.025873 -0.010478  \n",
       "Close      0.744054  0.024105 -0.011216  \n",
       "Adj Close  0.744054  0.024105 -0.011216  \n",
       "Volume     0.769721 -0.055564 -0.022073  \n",
       "year       1.000000 -0.064602 -0.035689  \n",
       "month     -0.064602  1.000000  0.031365  \n",
       "date      -0.035689  0.031365  1.000000  "
      ]
     },
     "execution_count": 17,
     "metadata": {},
     "output_type": "execute_result"
    }
   ],
   "source": [
    "df.corr()"
   ]
  },
  {
   "cell_type": "code",
   "execution_count": 18,
   "id": "c199dffa",
   "metadata": {},
   "outputs": [
    {
     "data": {
      "text/plain": [
       "<seaborn.axisgrid.PairGrid at 0x25a44958c40>"
      ]
     },
     "execution_count": 18,
     "metadata": {},
     "output_type": "execute_result"
    },
    {
     "data": {
      "image/png": "[encoded data removed]",
      "text/plain": [
       "<Figure size 2250x2250 with 90 Axes>"
      ]
     },
     "metadata": {},
     "output_type": "display_data"
    }
   ],
   "source": [
    "sns.pairplot(df.corr())"
   ]
  },
  {
   "cell_type": "code",
   "execution_count": 19,
   "id": "8a042715",
   "metadata": {},
   "outputs": [
    {
     "data": {
      "text/plain": [
       "Text(0, 0.5, 'Close')"
      ]
     },
     "execution_count": 19,
     "metadata": {},
     "output_type": "execute_result"
    },
    {
     "data": {
      "image/png": "[encoded data removed]",
      "text/plain": [
       "<Figure size 640x480 with 1 Axes>"
      ]
     },
     "metadata": {},
     "output_type": "display_data"
    }
   ],
   "source": [
    "plt.scatter(df['Open'],df['Close'])\n",
    "plt.xlabel(\"Open\")\n",
    "plt.ylabel(\"Close\")"
   ]
  },
  {
   "cell_type": "code",
   "execution_count": 20,
   "id": "f1df887d",
   "metadata": {},
   "outputs": [
    {
     "data": {
      "text/plain": [
       "<Axes: xlabel='High', ylabel='Low'>"
      ]
     },
     "execution_count": 20,
     "metadata": {},
     "output_type": "execute_result"
    },
    {
     "data": {
      "image/png": "[encoded data removed]",
      "text/plain": [
       "<Figure size 640x480 with 1 Axes>"
      ]
     },
     "metadata": {},
     "output_type": "display_data"
    }
   ],
   "source": [
    "sns.regplot(data=df,x=\"High\",y=\"Low\")"
   ]
  },
  {
   "cell_type": "code",
   "execution_count": 21,
   "id": "95fcb69a",
   "metadata": {},
   "outputs": [
    {
     "data": {
      "text/html": [
       "<div>\n",
       "<style scoped>\n",
       "    .dataframe tbody tr th:only-of-type {\n",
       "        vertical-align: middle;\n",
       "    }\n",
       "\n",
       "    .dataframe tbody tr th {\n",
       "        vertical-align: top;\n",
       "    }\n",
       "\n",
       "    .dataframe thead th {\n",
       "        text-align: right;\n",
       "    }\n",
       "</style>\n",
       "<table border=\"1\" class=\"dataframe\">\n",
       "  <thead>\n",
       "    <tr style=\"text-align: right;\">\n",
       "      <th></th>\n",
       "      <th>Open</th>\n",
       "      <th>High</th>\n",
       "      <th>Low</th>\n",
       "      <th>Close</th>\n",
       "      <th>Adj Close</th>\n",
       "      <th>Volume</th>\n",
       "      <th>year</th>\n",
       "      <th>month</th>\n",
       "      <th>date</th>\n",
       "    </tr>\n",
       "  </thead>\n",
       "  <tbody>\n",
       "    <tr>\n",
       "      <th>0</th>\n",
       "      <td>465.864014</td>\n",
       "      <td>468.174011</td>\n",
       "      <td>452.421997</td>\n",
       "      <td>457.334015</td>\n",
       "      <td>457.334015</td>\n",
       "      <td>21056800.0</td>\n",
       "      <td>2014</td>\n",
       "      <td>9</td>\n",
       "      <td>17</td>\n",
       "    </tr>\n",
       "    <tr>\n",
       "      <th>1</th>\n",
       "      <td>456.859985</td>\n",
       "      <td>456.859985</td>\n",
       "      <td>413.104004</td>\n",
       "      <td>424.440002</td>\n",
       "      <td>424.440002</td>\n",
       "      <td>34483200.0</td>\n",
       "      <td>2014</td>\n",
       "      <td>9</td>\n",
       "      <td>18</td>\n",
       "    </tr>\n",
       "    <tr>\n",
       "      <th>2</th>\n",
       "      <td>424.102997</td>\n",
       "      <td>427.834991</td>\n",
       "      <td>384.532013</td>\n",
       "      <td>394.795990</td>\n",
       "      <td>394.795990</td>\n",
       "      <td>37919700.0</td>\n",
       "      <td>2014</td>\n",
       "      <td>9</td>\n",
       "      <td>19</td>\n",
       "    </tr>\n",
       "    <tr>\n",
       "      <th>3</th>\n",
       "      <td>394.673004</td>\n",
       "      <td>423.295990</td>\n",
       "      <td>389.882996</td>\n",
       "      <td>408.903992</td>\n",
       "      <td>408.903992</td>\n",
       "      <td>36863600.0</td>\n",
       "      <td>2014</td>\n",
       "      <td>9</td>\n",
       "      <td>20</td>\n",
       "    </tr>\n",
       "    <tr>\n",
       "      <th>4</th>\n",
       "      <td>408.084991</td>\n",
       "      <td>412.425995</td>\n",
       "      <td>393.181000</td>\n",
       "      <td>398.821014</td>\n",
       "      <td>398.821014</td>\n",
       "      <td>26580100.0</td>\n",
       "      <td>2014</td>\n",
       "      <td>9</td>\n",
       "      <td>21</td>\n",
       "    </tr>\n",
       "    <tr>\n",
       "      <th>5</th>\n",
       "      <td>399.100006</td>\n",
       "      <td>406.915985</td>\n",
       "      <td>397.130005</td>\n",
       "      <td>402.152008</td>\n",
       "      <td>402.152008</td>\n",
       "      <td>24127600.0</td>\n",
       "      <td>2014</td>\n",
       "      <td>9</td>\n",
       "      <td>22</td>\n",
       "    </tr>\n",
       "    <tr>\n",
       "      <th>6</th>\n",
       "      <td>402.092010</td>\n",
       "      <td>441.557007</td>\n",
       "      <td>396.196991</td>\n",
       "      <td>435.790985</td>\n",
       "      <td>435.790985</td>\n",
       "      <td>45099500.0</td>\n",
       "      <td>2014</td>\n",
       "      <td>9</td>\n",
       "      <td>23</td>\n",
       "    </tr>\n",
       "    <tr>\n",
       "      <th>7</th>\n",
       "      <td>435.751007</td>\n",
       "      <td>436.112000</td>\n",
       "      <td>421.131989</td>\n",
       "      <td>423.204987</td>\n",
       "      <td>423.204987</td>\n",
       "      <td>30627700.0</td>\n",
       "      <td>2014</td>\n",
       "      <td>9</td>\n",
       "      <td>24</td>\n",
       "    </tr>\n",
       "    <tr>\n",
       "      <th>8</th>\n",
       "      <td>423.156006</td>\n",
       "      <td>423.519989</td>\n",
       "      <td>409.467987</td>\n",
       "      <td>411.574005</td>\n",
       "      <td>411.574005</td>\n",
       "      <td>26814400.0</td>\n",
       "      <td>2014</td>\n",
       "      <td>9</td>\n",
       "      <td>25</td>\n",
       "    </tr>\n",
       "    <tr>\n",
       "      <th>9</th>\n",
       "      <td>411.428986</td>\n",
       "      <td>414.937988</td>\n",
       "      <td>400.009003</td>\n",
       "      <td>404.424988</td>\n",
       "      <td>404.424988</td>\n",
       "      <td>21460800.0</td>\n",
       "      <td>2014</td>\n",
       "      <td>9</td>\n",
       "      <td>26</td>\n",
       "    </tr>\n",
       "    <tr>\n",
       "      <th>10</th>\n",
       "      <td>403.556000</td>\n",
       "      <td>406.622986</td>\n",
       "      <td>397.372009</td>\n",
       "      <td>399.519989</td>\n",
       "      <td>399.519989</td>\n",
       "      <td>15029300.0</td>\n",
       "      <td>2014</td>\n",
       "      <td>9</td>\n",
       "      <td>27</td>\n",
       "    </tr>\n",
       "    <tr>\n",
       "      <th>11</th>\n",
       "      <td>399.471008</td>\n",
       "      <td>401.016998</td>\n",
       "      <td>374.332001</td>\n",
       "      <td>377.181000</td>\n",
       "      <td>377.181000</td>\n",
       "      <td>23613300.0</td>\n",
       "      <td>2014</td>\n",
       "      <td>9</td>\n",
       "      <td>28</td>\n",
       "    </tr>\n",
       "    <tr>\n",
       "      <th>12</th>\n",
       "      <td>376.928009</td>\n",
       "      <td>385.210999</td>\n",
       "      <td>372.239990</td>\n",
       "      <td>375.467010</td>\n",
       "      <td>375.467010</td>\n",
       "      <td>32497700.0</td>\n",
       "      <td>2014</td>\n",
       "      <td>9</td>\n",
       "      <td>29</td>\n",
       "    </tr>\n",
       "    <tr>\n",
       "      <th>13</th>\n",
       "      <td>376.088013</td>\n",
       "      <td>390.976990</td>\n",
       "      <td>373.442993</td>\n",
       "      <td>386.944000</td>\n",
       "      <td>386.944000</td>\n",
       "      <td>34707300.0</td>\n",
       "      <td>2014</td>\n",
       "      <td>9</td>\n",
       "      <td>30</td>\n",
       "    </tr>\n",
       "    <tr>\n",
       "      <th>14</th>\n",
       "      <td>387.427002</td>\n",
       "      <td>391.378998</td>\n",
       "      <td>380.779999</td>\n",
       "      <td>383.614990</td>\n",
       "      <td>383.614990</td>\n",
       "      <td>26229400.0</td>\n",
       "      <td>2014</td>\n",
       "      <td>1</td>\n",
       "      <td>10</td>\n",
       "    </tr>\n",
       "    <tr>\n",
       "      <th>15</th>\n",
       "      <td>383.988007</td>\n",
       "      <td>385.497009</td>\n",
       "      <td>372.946014</td>\n",
       "      <td>375.071991</td>\n",
       "      <td>375.071991</td>\n",
       "      <td>21777700.0</td>\n",
       "      <td>2014</td>\n",
       "      <td>2</td>\n",
       "      <td>10</td>\n",
       "    </tr>\n",
       "    <tr>\n",
       "      <th>16</th>\n",
       "      <td>375.181000</td>\n",
       "      <td>377.695007</td>\n",
       "      <td>357.859009</td>\n",
       "      <td>359.511993</td>\n",
       "      <td>359.511993</td>\n",
       "      <td>30901200.0</td>\n",
       "      <td>2014</td>\n",
       "      <td>3</td>\n",
       "      <td>10</td>\n",
       "    </tr>\n",
       "    <tr>\n",
       "      <th>17</th>\n",
       "      <td>359.891998</td>\n",
       "      <td>364.487000</td>\n",
       "      <td>325.885986</td>\n",
       "      <td>328.865997</td>\n",
       "      <td>328.865997</td>\n",
       "      <td>47236500.0</td>\n",
       "      <td>2014</td>\n",
       "      <td>4</td>\n",
       "      <td>10</td>\n",
       "    </tr>\n",
       "    <tr>\n",
       "      <th>18</th>\n",
       "      <td>328.915985</td>\n",
       "      <td>341.800995</td>\n",
       "      <td>289.295990</td>\n",
       "      <td>320.510010</td>\n",
       "      <td>320.510010</td>\n",
       "      <td>83308096.0</td>\n",
       "      <td>2014</td>\n",
       "      <td>5</td>\n",
       "      <td>10</td>\n",
       "    </tr>\n",
       "    <tr>\n",
       "      <th>19</th>\n",
       "      <td>320.389008</td>\n",
       "      <td>345.134003</td>\n",
       "      <td>302.559998</td>\n",
       "      <td>330.079010</td>\n",
       "      <td>330.079010</td>\n",
       "      <td>79011800.0</td>\n",
       "      <td>2014</td>\n",
       "      <td>6</td>\n",
       "      <td>10</td>\n",
       "    </tr>\n",
       "  </tbody>\n",
       "</table>\n",
       "</div>"
      ],
      "text/plain": [
       "          Open        High         Low       Close   Adj Close      Volume  \\\n",
       "0   465.864014  468.174011  452.421997  457.334015  457.334015  21056800.0   \n",
       "1   456.859985  456.859985  413.104004  424.440002  424.440002  34483200.0   \n",
       "2   424.102997  427.834991  384.532013  394.795990  394.795990  37919700.0   \n",
       "3   394.673004  423.295990  389.882996  408.903992  408.903992  36863600.0   \n",
       "4   408.084991  412.425995  393.181000  398.821014  398.821014  26580100.0   \n",
       "5   399.100006  406.915985  397.130005  402.152008  402.152008  24127600.0   \n",
       "6   402.092010  441.557007  396.196991  435.790985  435.790985  45099500.0   \n",
       "7   435.751007  436.112000  421.131989  423.204987  423.204987  30627700.0   \n",
       "8   423.156006  423.519989  409.467987  411.574005  411.574005  26814400.0   \n",
       "9   411.428986  414.937988  400.009003  404.424988  404.424988  21460800.0   \n",
       "10  403.556000  406.622986  397.372009  399.519989  399.519989  15029300.0   \n",
       "11  399.471008  401.016998  374.332001  377.181000  377.181000  23613300.0   \n",
       "12  376.928009  385.210999  372.239990  375.467010  375.467010  32497700.0   \n",
       "13  376.088013  390.976990  373.442993  386.944000  386.944000  34707300.0   \n",
       "14  387.427002  391.378998  380.779999  383.614990  383.614990  26229400.0   \n",
       "15  383.988007  385.497009  372.946014  375.071991  375.071991  21777700.0   \n",
       "16  375.181000  377.695007  357.859009  359.511993  359.511993  30901200.0   \n",
       "17  359.891998  364.487000  325.885986  328.865997  328.865997  47236500.0   \n",
       "18  328.915985  341.800995  289.295990  320.510010  320.510010  83308096.0   \n",
       "19  320.389008  345.134003  302.559998  330.079010  330.079010  79011800.0   \n",
       "\n",
       "    year  month  date  \n",
       "0   2014      9    17  \n",
       "1   2014      9    18  \n",
       "2   2014      9    19  \n",
       "3   2014      9    20  \n",
       "4   2014      9    21  \n",
       "5   2014      9    22  \n",
       "6   2014      9    23  \n",
       "7   2014      9    24  \n",
       "8   2014      9    25  \n",
       "9   2014      9    26  \n",
       "10  2014      9    27  \n",
       "11  2014      9    28  \n",
       "12  2014      9    29  \n",
       "13  2014      9    30  \n",
       "14  2014      1    10  \n",
       "15  2014      2    10  \n",
       "16  2014      3    10  \n",
       "17  2014      4    10  \n",
       "18  2014      5    10  \n",
       "19  2014      6    10  "
      ]
     },
     "execution_count": 21,
     "metadata": {},
     "output_type": "execute_result"
    }
   ],
   "source": [
    "ds=df.head(20)\n",
    "ds"
   ]
  },
  {
   "cell_type": "code",
   "execution_count": 22,
   "id": "4a4ba954",
   "metadata": {},
   "outputs": [],
   "source": [
    "col = df.pop(\"Close\")"
   ]
  },
  {
   "cell_type": "code",
   "execution_count": 23,
   "id": "1d813efb",
   "metadata": {},
   "outputs": [],
   "source": [
    "df.insert(8, col.name, col)"
   ]
  },
  {
   "cell_type": "code",
   "execution_count": 24,
   "id": "9170de6a",
   "metadata": {},
   "outputs": [],
   "source": [
    "col = df.pop(\"year\")"
   ]
  },
  {
   "cell_type": "code",
   "execution_count": 25,
   "id": "ec65270c",
   "metadata": {},
   "outputs": [],
   "source": [
    "df.insert(0, col.name, col)"
   ]
  },
  {
   "cell_type": "code",
   "execution_count": 26,
   "id": "f100c5d3",
   "metadata": {},
   "outputs": [],
   "source": [
    "col = df.pop(\"month\")"
   ]
  },
  {
   "cell_type": "code",
   "execution_count": 27,
   "id": "97375979",
   "metadata": {},
   "outputs": [],
   "source": [
    "df.insert(1, col.name, col)"
   ]
  },
  {
   "cell_type": "code",
   "execution_count": 28,
   "id": "4397d32f",
   "metadata": {},
   "outputs": [],
   "source": [
    "col = df.pop(\"date\")"
   ]
  },
  {
   "cell_type": "code",
   "execution_count": 29,
   "id": "cb6d7274",
   "metadata": {},
   "outputs": [],
   "source": [
    "df.insert(2, col.name, col)"
   ]
  },
  {
   "cell_type": "code",
   "execution_count": 30,
   "id": "21a7a041",
   "metadata": {},
   "outputs": [
    {
     "data": {
      "text/html": [
       "<div>\n",
       "<style scoped>\n",
       "    .dataframe tbody tr th:only-of-type {\n",
       "        vertical-align: middle;\n",
       "    }\n",
       "\n",
       "    .dataframe tbody tr th {\n",
       "        vertical-align: top;\n",
       "    }\n",
       "\n",
       "    .dataframe thead th {\n",
       "        text-align: right;\n",
       "    }\n",
       "</style>\n",
       "<table border=\"1\" class=\"dataframe\">\n",
       "  <thead>\n",
       "    <tr style=\"text-align: right;\">\n",
       "      <th></th>\n",
       "      <th>year</th>\n",
       "      <th>month</th>\n",
       "      <th>date</th>\n",
       "      <th>Open</th>\n",
       "      <th>High</th>\n",
       "      <th>Low</th>\n",
       "      <th>Adj Close</th>\n",
       "      <th>Volume</th>\n",
       "      <th>Close</th>\n",
       "    </tr>\n",
       "  </thead>\n",
       "  <tbody>\n",
       "    <tr>\n",
       "      <th>0</th>\n",
       "      <td>2014</td>\n",
       "      <td>9</td>\n",
       "      <td>17</td>\n",
       "      <td>465.864014</td>\n",
       "      <td>468.174011</td>\n",
       "      <td>452.421997</td>\n",
       "      <td>457.334015</td>\n",
       "      <td>21056800.0</td>\n",
       "      <td>457.334015</td>\n",
       "    </tr>\n",
       "    <tr>\n",
       "      <th>1</th>\n",
       "      <td>2014</td>\n",
       "      <td>9</td>\n",
       "      <td>18</td>\n",
       "      <td>456.859985</td>\n",
       "      <td>456.859985</td>\n",
       "      <td>413.104004</td>\n",
       "      <td>424.440002</td>\n",
       "      <td>34483200.0</td>\n",
       "      <td>424.440002</td>\n",
       "    </tr>\n",
       "    <tr>\n",
       "      <th>2</th>\n",
       "      <td>2014</td>\n",
       "      <td>9</td>\n",
       "      <td>19</td>\n",
       "      <td>424.102997</td>\n",
       "      <td>427.834991</td>\n",
       "      <td>384.532013</td>\n",
       "      <td>394.795990</td>\n",
       "      <td>37919700.0</td>\n",
       "      <td>394.795990</td>\n",
       "    </tr>\n",
       "    <tr>\n",
       "      <th>3</th>\n",
       "      <td>2014</td>\n",
       "      <td>9</td>\n",
       "      <td>20</td>\n",
       "      <td>394.673004</td>\n",
       "      <td>423.295990</td>\n",
       "      <td>389.882996</td>\n",
       "      <td>408.903992</td>\n",
       "      <td>36863600.0</td>\n",
       "      <td>408.903992</td>\n",
       "    </tr>\n",
       "    <tr>\n",
       "      <th>4</th>\n",
       "      <td>2014</td>\n",
       "      <td>9</td>\n",
       "      <td>21</td>\n",
       "      <td>408.084991</td>\n",
       "      <td>412.425995</td>\n",
       "      <td>393.181000</td>\n",
       "      <td>398.821014</td>\n",
       "      <td>26580100.0</td>\n",
       "      <td>398.821014</td>\n",
       "    </tr>\n",
       "  </tbody>\n",
       "</table>\n",
       "</div>"
      ],
      "text/plain": [
       "   year  month  date        Open        High         Low   Adj Close  \\\n",
       "0  2014      9    17  465.864014  468.174011  452.421997  457.334015   \n",
       "1  2014      9    18  456.859985  456.859985  413.104004  424.440002   \n",
       "2  2014      9    19  424.102997  427.834991  384.532013  394.795990   \n",
       "3  2014      9    20  394.673004  423.295990  389.882996  408.903992   \n",
       "4  2014      9    21  408.084991  412.425995  393.181000  398.821014   \n",
       "\n",
       "       Volume       Close  \n",
       "0  21056800.0  457.334015  \n",
       "1  34483200.0  424.440002  \n",
       "2  37919700.0  394.795990  \n",
       "3  36863600.0  408.903992  \n",
       "4  26580100.0  398.821014  "
      ]
     },
     "execution_count": 30,
     "metadata": {},
     "output_type": "execute_result"
    }
   ],
   "source": [
    "df.head()"
   ]
  },
  {
   "cell_type": "code",
   "execution_count": 32,
   "id": "2b3dd69d",
   "metadata": {},
   "outputs": [],
   "source": [
    "x = df.iloc[:,:-1]\n",
    "y = df.iloc[:,-1]"
   ]
  },
  {
   "cell_type": "code",
   "execution_count": 33,
   "id": "c3d93d83",
   "metadata": {},
   "outputs": [
    {
     "data": {
      "text/html": [
       "<div>\n",
       "<style scoped>\n",
       "    .dataframe tbody tr th:only-of-type {\n",
       "        vertical-align: middle;\n",
       "    }\n",
       "\n",
       "    .dataframe tbody tr th {\n",
       "        vertical-align: top;\n",
       "    }\n",
       "\n",
       "    .dataframe thead th {\n",
       "        text-align: right;\n",
       "    }\n",
       "</style>\n",
       "<table border=\"1\" class=\"dataframe\">\n",
       "  <thead>\n",
       "    <tr style=\"text-align: right;\">\n",
       "      <th></th>\n",
       "      <th>year</th>\n",
       "      <th>month</th>\n",
       "      <th>date</th>\n",
       "      <th>Open</th>\n",
       "      <th>High</th>\n",
       "      <th>Low</th>\n",
       "      <th>Adj Close</th>\n",
       "      <th>Volume</th>\n",
       "    </tr>\n",
       "  </thead>\n",
       "  <tbody>\n",
       "    <tr>\n",
       "      <th>0</th>\n",
       "      <td>2014</td>\n",
       "      <td>9</td>\n",
       "      <td>17</td>\n",
       "      <td>465.864014</td>\n",
       "      <td>468.174011</td>\n",
       "      <td>452.421997</td>\n",
       "      <td>457.334015</td>\n",
       "      <td>2.105680e+07</td>\n",
       "    </tr>\n",
       "    <tr>\n",
       "      <th>1</th>\n",
       "      <td>2014</td>\n",
       "      <td>9</td>\n",
       "      <td>18</td>\n",
       "      <td>456.859985</td>\n",
       "      <td>456.859985</td>\n",
       "      <td>413.104004</td>\n",
       "      <td>424.440002</td>\n",
       "      <td>3.448320e+07</td>\n",
       "    </tr>\n",
       "    <tr>\n",
       "      <th>2</th>\n",
       "      <td>2014</td>\n",
       "      <td>9</td>\n",
       "      <td>19</td>\n",
       "      <td>424.102997</td>\n",
       "      <td>427.834991</td>\n",
       "      <td>384.532013</td>\n",
       "      <td>394.795990</td>\n",
       "      <td>3.791970e+07</td>\n",
       "    </tr>\n",
       "    <tr>\n",
       "      <th>3</th>\n",
       "      <td>2014</td>\n",
       "      <td>9</td>\n",
       "      <td>20</td>\n",
       "      <td>394.673004</td>\n",
       "      <td>423.295990</td>\n",
       "      <td>389.882996</td>\n",
       "      <td>408.903992</td>\n",
       "      <td>3.686360e+07</td>\n",
       "    </tr>\n",
       "    <tr>\n",
       "      <th>4</th>\n",
       "      <td>2014</td>\n",
       "      <td>9</td>\n",
       "      <td>21</td>\n",
       "      <td>408.084991</td>\n",
       "      <td>412.425995</td>\n",
       "      <td>393.181000</td>\n",
       "      <td>398.821014</td>\n",
       "      <td>2.658010e+07</td>\n",
       "    </tr>\n",
       "    <tr>\n",
       "      <th>...</th>\n",
       "      <td>...</td>\n",
       "      <td>...</td>\n",
       "      <td>...</td>\n",
       "      <td>...</td>\n",
       "      <td>...</td>\n",
       "      <td>...</td>\n",
       "      <td>...</td>\n",
       "      <td>...</td>\n",
       "    </tr>\n",
       "    <tr>\n",
       "      <th>2678</th>\n",
       "      <td>2022</td>\n",
       "      <td>1</td>\n",
       "      <td>16</td>\n",
       "      <td>43172.039060</td>\n",
       "      <td>43436.808590</td>\n",
       "      <td>42691.023440</td>\n",
       "      <td>43113.878910</td>\n",
       "      <td>1.790210e+10</td>\n",
       "    </tr>\n",
       "    <tr>\n",
       "      <th>2679</th>\n",
       "      <td>2022</td>\n",
       "      <td>1</td>\n",
       "      <td>17</td>\n",
       "      <td>43118.121090</td>\n",
       "      <td>43179.390630</td>\n",
       "      <td>41680.320310</td>\n",
       "      <td>42250.550780</td>\n",
       "      <td>2.169090e+10</td>\n",
       "    </tr>\n",
       "    <tr>\n",
       "      <th>2680</th>\n",
       "      <td>2022</td>\n",
       "      <td>1</td>\n",
       "      <td>18</td>\n",
       "      <td>42250.074220</td>\n",
       "      <td>42534.402340</td>\n",
       "      <td>41392.214840</td>\n",
       "      <td>42375.632810</td>\n",
       "      <td>2.241721e+10</td>\n",
       "    </tr>\n",
       "    <tr>\n",
       "      <th>2681</th>\n",
       "      <td>2022</td>\n",
       "      <td>1</td>\n",
       "      <td>19</td>\n",
       "      <td>42374.039060</td>\n",
       "      <td>42478.304690</td>\n",
       "      <td>41242.914060</td>\n",
       "      <td>41744.328130</td>\n",
       "      <td>2.309154e+10</td>\n",
       "    </tr>\n",
       "    <tr>\n",
       "      <th>2682</th>\n",
       "      <td>2022</td>\n",
       "      <td>1</td>\n",
       "      <td>20</td>\n",
       "      <td>41736.527340</td>\n",
       "      <td>42034.734380</td>\n",
       "      <td>41724.464840</td>\n",
       "      <td>41933.546880</td>\n",
       "      <td>2.345779e+10</td>\n",
       "    </tr>\n",
       "  </tbody>\n",
       "</table>\n",
       "<p>2683 rows × 8 columns</p>\n",
       "</div>"
      ],
      "text/plain": [
       "      year  month  date          Open          High           Low  \\\n",
       "0     2014      9    17    465.864014    468.174011    452.421997   \n",
       "1     2014      9    18    456.859985    456.859985    413.104004   \n",
       "2     2014      9    19    424.102997    427.834991    384.532013   \n",
       "3     2014      9    20    394.673004    423.295990    389.882996   \n",
       "4     2014      9    21    408.084991    412.425995    393.181000   \n",
       "...    ...    ...   ...           ...           ...           ...   \n",
       "2678  2022      1    16  43172.039060  43436.808590  42691.023440   \n",
       "2679  2022      1    17  43118.121090  43179.390630  41680.320310   \n",
       "2680  2022      1    18  42250.074220  42534.402340  41392.214840   \n",
       "2681  2022      1    19  42374.039060  42478.304690  41242.914060   \n",
       "2682  2022      1    20  41736.527340  42034.734380  41724.464840   \n",
       "\n",
       "         Adj Close        Volume  \n",
       "0       457.334015  2.105680e+07  \n",
       "1       424.440002  3.448320e+07  \n",
       "2       394.795990  3.791970e+07  \n",
       "3       408.903992  3.686360e+07  \n",
       "4       398.821014  2.658010e+07  \n",
       "...            ...           ...  \n",
       "2678  43113.878910  1.790210e+10  \n",
       "2679  42250.550780  2.169090e+10  \n",
       "2680  42375.632810  2.241721e+10  \n",
       "2681  41744.328130  2.309154e+10  \n",
       "2682  41933.546880  2.345779e+10  \n",
       "\n",
       "[2683 rows x 8 columns]"
      ]
     },
     "execution_count": 33,
     "metadata": {},
     "output_type": "execute_result"
    }
   ],
   "source": [
    "x"
   ]
  },
  {
   "cell_type": "code",
   "execution_count": 34,
   "id": "a676368f",
   "metadata": {},
   "outputs": [
    {
     "data": {
      "text/plain": [
       "0         457.334015\n",
       "1         424.440002\n",
       "2         394.795990\n",
       "3         408.903992\n",
       "4         398.821014\n",
       "            ...     \n",
       "2678    43113.878910\n",
       "2679    42250.550780\n",
       "2680    42375.632810\n",
       "2681    41744.328130\n",
       "2682    41933.546880\n",
       "Name: Close, Length: 2683, dtype: float64"
      ]
     },
     "execution_count": 34,
     "metadata": {},
     "output_type": "execute_result"
    }
   ],
   "source": [
    "y"
   ]
  },
  {
   "cell_type": "code",
   "execution_count": 35,
   "id": "f69b7128",
   "metadata": {},
   "outputs": [],
   "source": [
    "x_train,x_test,y_train,y_test = train_test_split(x,y,test_size=0.3,random_state=42)"
   ]
  },
  {
   "cell_type": "code",
   "execution_count": 36,
   "id": "e6d4a6b4",
   "metadata": {},
   "outputs": [
    {
     "data": {
      "text/plain": [
       "(1878, 8)"
      ]
     },
     "execution_count": 36,
     "metadata": {},
     "output_type": "execute_result"
    }
   ],
   "source": [
    "x_train.shape"
   ]
  },
  {
   "cell_type": "code",
   "execution_count": 37,
   "id": "df27fd3b",
   "metadata": {},
   "outputs": [
    {
     "data": {
      "text/plain": [
       "(805, 8)"
      ]
     },
     "execution_count": 37,
     "metadata": {},
     "output_type": "execute_result"
    }
   ],
   "source": [
    "x_test.shape"
   ]
  },
  {
   "cell_type": "code",
   "execution_count": 38,
   "id": "39e87f20",
   "metadata": {},
   "outputs": [
    {
     "data": {
      "text/html": [
       "<div>\n",
       "<style scoped>\n",
       "    .dataframe tbody tr th:only-of-type {\n",
       "        vertical-align: middle;\n",
       "    }\n",
       "\n",
       "    .dataframe tbody tr th {\n",
       "        vertical-align: top;\n",
       "    }\n",
       "\n",
       "    .dataframe thead th {\n",
       "        text-align: right;\n",
       "    }\n",
       "</style>\n",
       "<table border=\"1\" class=\"dataframe\">\n",
       "  <thead>\n",
       "    <tr style=\"text-align: right;\">\n",
       "      <th></th>\n",
       "      <th>year</th>\n",
       "      <th>month</th>\n",
       "      <th>date</th>\n",
       "      <th>Open</th>\n",
       "      <th>High</th>\n",
       "      <th>Low</th>\n",
       "      <th>Adj Close</th>\n",
       "      <th>Volume</th>\n",
       "    </tr>\n",
       "  </thead>\n",
       "  <tbody>\n",
       "    <tr>\n",
       "      <th>360</th>\n",
       "      <td>2015</td>\n",
       "      <td>12</td>\n",
       "      <td>9</td>\n",
       "      <td>239.854996</td>\n",
       "      <td>240.123993</td>\n",
       "      <td>234.753998</td>\n",
       "      <td>235.229004</td>\n",
       "      <td>1.796260e+07</td>\n",
       "    </tr>\n",
       "    <tr>\n",
       "      <th>1359</th>\n",
       "      <td>2018</td>\n",
       "      <td>7</td>\n",
       "      <td>6</td>\n",
       "      <td>7650.819824</td>\n",
       "      <td>7741.270020</td>\n",
       "      <td>7650.819824</td>\n",
       "      <td>7678.240234</td>\n",
       "      <td>4.485800e+09</td>\n",
       "    </tr>\n",
       "    <tr>\n",
       "      <th>604</th>\n",
       "      <td>2016</td>\n",
       "      <td>5</td>\n",
       "      <td>13</td>\n",
       "      <td>454.850006</td>\n",
       "      <td>457.054993</td>\n",
       "      <td>453.453003</td>\n",
       "      <td>455.670013</td>\n",
       "      <td>6.084500e+07</td>\n",
       "    </tr>\n",
       "    <tr>\n",
       "      <th>2270</th>\n",
       "      <td>2020</td>\n",
       "      <td>4</td>\n",
       "      <td>12</td>\n",
       "      <td>19446.966800</td>\n",
       "      <td>19511.404300</td>\n",
       "      <td>18697.193360</td>\n",
       "      <td>18699.765630</td>\n",
       "      <td>3.387239e+10</td>\n",
       "    </tr>\n",
       "    <tr>\n",
       "      <th>1744</th>\n",
       "      <td>2019</td>\n",
       "      <td>6</td>\n",
       "      <td>27</td>\n",
       "      <td>13017.125000</td>\n",
       "      <td>13311.144530</td>\n",
       "      <td>10491.852540</td>\n",
       "      <td>11182.806640</td>\n",
       "      <td>3.997748e+10</td>\n",
       "    </tr>\n",
       "  </tbody>\n",
       "</table>\n",
       "</div>"
      ],
      "text/plain": [
       "      year  month  date          Open          High           Low  \\\n",
       "360   2015     12     9    239.854996    240.123993    234.753998   \n",
       "1359  2018      7     6   7650.819824   7741.270020   7650.819824   \n",
       "604   2016      5    13    454.850006    457.054993    453.453003   \n",
       "2270  2020      4    12  19446.966800  19511.404300  18697.193360   \n",
       "1744  2019      6    27  13017.125000  13311.144530  10491.852540   \n",
       "\n",
       "         Adj Close        Volume  \n",
       "360     235.229004  1.796260e+07  \n",
       "1359   7678.240234  4.485800e+09  \n",
       "604     455.670013  6.084500e+07  \n",
       "2270  18699.765630  3.387239e+10  \n",
       "1744  11182.806640  3.997748e+10  "
      ]
     },
     "execution_count": 38,
     "metadata": {},
     "output_type": "execute_result"
    }
   ],
   "source": [
    "x_train.head()"
   ]
  },
  {
   "cell_type": "code",
   "execution_count": 39,
   "id": "cbd409f3",
   "metadata": {},
   "outputs": [
    {
     "data": {
      "text/plain": [
       "360       235.229004\n",
       "1359     7678.240234\n",
       "604       455.670013\n",
       "2270    18699.765630\n",
       "1744    11182.806640\n",
       "Name: Close, dtype: float64"
      ]
     },
     "execution_count": 39,
     "metadata": {},
     "output_type": "execute_result"
    }
   ],
   "source": [
    "y_train.head()"
   ]
  },
  {
   "cell_type": "code",
   "execution_count": 40,
   "id": "10797f31",
   "metadata": {},
   "outputs": [],
   "source": [
    "## preprocessing...\n",
    "from sklearn.preprocessing import StandardScaler"
   ]
  },
  {
   "cell_type": "code",
   "execution_count": 41,
   "id": "c1a97921",
   "metadata": {},
   "outputs": [],
   "source": [
    "sc = StandardScaler()\n",
    "## we use fit_transform only in train but in test we use only transform...\n",
    "## to prevent data leakege....\n",
    "x_train=sc.fit_transform(x_train)\n",
    "x_test = sc.transform(x_test)"
   ]
  },
  {
   "cell_type": "code",
   "execution_count": 60,
   "id": "f31fe555",
   "metadata": {},
   "outputs": [],
   "source": [
    "import pickle\n",
    "pickle.dump(sc,open('scaling.pkl','wb'))"
   ]
  },
  {
   "cell_type": "code",
   "execution_count": 61,
   "id": "1afad14b",
   "metadata": {},
   "outputs": [],
   "source": [
    "## modeling.....\n",
    "from sklearn.ensemble import RandomForestRegressor\n",
    "rf = RandomForestRegressor(n_estimators = 500, max_features = 'sqrt', max_depth = 5, random_state = 42).fit(x_train, y_train)"
   ]
  },
  {
   "cell_type": "code",
   "execution_count": 62,
   "id": "94b3e9a1",
   "metadata": {},
   "outputs": [],
   "source": [
    "y_pred = rf.predict(x_test)"
   ]
  },
  {
   "cell_type": "code",
   "execution_count": 63,
   "id": "34544fa5",
   "metadata": {},
   "outputs": [
    {
     "data": {
      "text/plain": [
       "array([38509.97837477,  6194.57006347,  6676.5638952 ,   374.75488409,\n",
       "         334.58615482,   331.93247606,   333.70087601,   333.78806467,\n",
       "         346.74046025,   597.60701646,  9557.85425293, 36881.17431788,\n",
       "         386.10244614,   384.40489634, 10504.00246241,  9531.60725528,\n",
       "         329.68296701,  1453.31663366,  7899.6051283 ,  7981.78237363,\n",
       "       18544.65221   , 46713.36680283,  9478.12359956,  3983.44864065,\n",
       "       10249.44763596, 10592.06119875, 46949.38851354,  6658.84008837,\n",
       "         330.66909641, 33382.72415977,   409.58756155,  8864.59645818,\n",
       "       17952.80346844,   416.39593947,   357.77811893,  3821.88306808,\n",
       "        6656.32113663,  1616.96942786,  3981.66217305,   354.05941234,\n",
       "        7662.03176144,   334.25271446,   332.58392925,  8388.81483598,\n",
       "         379.02227542,  2498.95330146, 10205.35687681,  9500.04980863,\n",
       "       17412.50167213, 49985.77969766,  7548.2223392 , 10663.01938573,\n",
       "         330.18324232,  7848.84349476,   718.42361158,   334.76140783,\n",
       "         343.41631013,   333.3820194 , 15692.17864909,  1121.91320188,\n",
       "        6650.73914066,   333.85648044,   619.44430642,  4038.15174392,\n",
       "        6829.66680631, 10543.49858012,   384.19357683, 10456.06379519,\n",
       "       33079.72135024,   330.72219851, 35903.93546063,  9569.01997558,\n",
       "        1058.58523813,  7868.95554403,   757.84359309,   333.03284148,\n",
       "        6646.30766413,   589.44867837,  7070.99461021,  3632.73956389,\n",
       "         385.24619997,  3539.95650518,   385.80769213,  1015.09528452,\n",
       "         679.89216457,  9009.88097586, 34087.76471439,   387.51270356,\n",
       "         342.36792569, 53717.38481661,   731.46057732,   340.16949637,\n",
       "         352.52078727,  4053.79518111, 47350.5024976 ,   589.00428912,\n",
       "         389.02119397,   342.24218595,   589.91421471,  6932.79529969,\n",
       "        6729.51704924,  4057.16361519, 10742.0522292 ,  6692.12284324,\n",
       "        3923.07903149,   594.1598131 , 10778.09369307,  3462.70638381,\n",
       "        6809.95518442,   378.77648374,  4482.79105319,  4081.60243436,\n",
       "         580.62959988, 34046.78465569, 34445.47545328,  2358.1988345 ,\n",
       "        9182.53732397,  7782.51441704,   331.45186032,  1139.84362392,\n",
       "       16809.01010395,  8375.94106945,   585.27501341,   334.56499164,\n",
       "         384.51243973, 10494.12563875,  8559.3532173 ,  9113.78541983,\n",
       "       62215.27470016, 10567.89487522, 10458.09082299,   332.76724303,\n",
       "        3915.40422603, 57624.47813913,   383.966868  , 21858.59557617,\n",
       "       61490.93571384,  7373.18137626,   342.27503324, 32880.24441541,\n",
       "        8650.29240636,  9566.72264487,  1046.1841987 ,  6674.89307473,\n",
       "         354.21914892,  2620.24876233, 48455.06605421,  5623.87056969,\n",
       "        4006.28929993,  9547.00911397,   386.25720461,  2663.8581088 ,\n",
       "        3834.42957872, 12124.15388039, 33733.66015784,   343.02089473,\n",
       "        4145.48963273, 61336.3970385 , 10648.26300765, 47110.99484282,\n",
       "        8575.20338229,   402.02935032,   334.47066178,   340.48194756,\n",
       "        2633.55590532, 50183.25204854,  9431.44784516,  7790.56512518,\n",
       "        6674.94346675,   604.18418937,  7601.60309387,   332.19447939,\n",
       "         578.7622983 , 61102.85845796, 16231.46399953, 58602.0736294 ,\n",
       "         335.72094631,  6672.65894918,  9646.58980014,   330.53375496,\n",
       "        1123.19320731,  6655.7442123 ,   584.16812695,   387.47387191,\n",
       "       10647.67834693,  1894.70633482,  3896.94947696,  3985.72124348,\n",
       "        4014.29116174,  9400.19359776,  7057.68552652,   333.54923763,\n",
       "        6654.33517519, 10690.88089596,  2634.84399598, 35208.082948  ,\n",
       "         384.53270791,   335.94290339,   333.90113971,   666.21852913,\n",
       "         384.9014988 ,  9761.38331822,  7239.64472289,  9459.55121278,\n",
       "       34082.84149342, 48771.10201104, 42358.95152822, 48958.81502701,\n",
       "        7453.73684757,  7864.88833834, 43550.19310887, 57645.44601508,\n",
       "       54220.01785857, 10340.00820533,  5410.67737468, 57206.89962423,\n",
       "         333.96331768,  2460.30017227, 10470.56692294, 36472.26851946,\n",
       "         358.5546695 ,  7079.13155591,   595.63310602,  3999.46631872,\n",
       "         375.72986055,  7715.2907862 , 42712.1543463 , 10350.63376328,\n",
       "        2900.32911079,  9457.84949061,  8932.87880869,  7888.30539637,\n",
       "         330.18324232,  3506.33127647, 33500.5777184 , 48441.78322349,\n",
       "         334.58850184,  1132.612322  ,  9404.66696561,  3820.58327268,\n",
       "       10455.48341295, 46277.72308199,   375.64467764,   332.41566829,\n",
       "       10196.63974777, 14723.37169532,  6817.60291961, 38150.99871346,\n",
       "         333.75637951, 55216.32218555,   330.53375496, 10875.58312853,\n",
       "        7254.6432125 ,   386.84681287,   387.16911964, 18172.69059922,\n",
       "        6649.35942439,   585.37412555,   334.47628228,  3264.51346717,\n",
       "         775.75533242,  7615.28155328, 57563.59763961,   334.58615482,\n",
       "       10712.32285138,  5080.09082487,   345.16437315,  4002.2508877 ,\n",
       "         379.74306653,   338.4970939 ,  3973.86056606,  9445.96360264,\n",
       "         331.6555232 ,  6662.6837152 ,   337.54443119, 35107.78525392,\n",
       "        1573.86337854,  2518.68691034,  3981.59341423,   335.32716094,\n",
       "        1038.03351411,   332.72742679,  2051.89749518,   384.34755369,\n",
       "         332.95568658,  9587.81240791,  6651.31084718, 10720.34071669,\n",
       "       10347.82674138,   596.75814703, 18648.23843158, 45278.99791061,\n",
       "        4251.99212835,  8002.91730074,  9730.0571516 , 59864.82493329,\n",
       "       10379.41552733, 35656.03145793,  6218.78449417,  4016.69702649,\n",
       "         332.76106216, 57876.20131272,   596.00996048,  9474.26720773,\n",
       "       10802.98482725, 17984.56035364,  9333.84044416,   331.34374192,\n",
       "         332.86102003,   376.88617874,   331.4802702 ,   332.93473824,\n",
       "         344.05395905,  7513.12333547,   375.46502798, 10545.86508878,\n",
       "         339.29147013, 11509.8357758 ,  6670.747062  ,  7720.26976032,\n",
       "         583.66977719,  8325.9630313 ,  9430.34514286,  8053.2937482 ,\n",
       "         330.16030734, 54073.92364526,  1027.96218255,  3994.59530625,\n",
       "         334.58615482,  9580.71584166,   600.67523603,  6949.52690074,\n",
       "        7256.95653492, 42097.17698822, 33212.07509199,  9404.07951396,\n",
       "       41967.41494795,   333.29460184,  8835.59618751,  7861.9769757 ,\n",
       "         622.50101477,  6644.80562987,  6650.86815977,   348.3833362 ,\n",
       "       55497.38389821, 48432.95955023,  7686.34356401,  3610.66518249,\n",
       "       10573.2057403 ,  7126.94859362,   381.12588207,  3997.01035772,\n",
       "        9772.47440608,  2649.73880198,  9403.92857864, 48680.71207417,\n",
       "       57380.46534279,  6657.89354076,   359.38772201,   335.64913972,\n",
       "       38280.54915684,  9236.27627451, 10731.99340535,   333.30078752,\n",
       "         337.97413821,   333.04857903, 54960.93954569,   583.57199987,\n",
       "        6322.91663508,   764.62953554, 10583.33687971,  1838.11080538,\n",
       "       50392.31426643, 61606.04017594,  7619.8759791 ,  6644.85160727,\n",
       "       10094.42294782,  9694.05779143,  6645.04657594, 16111.56503268,\n",
       "        6660.6359619 ,   384.69080861, 62456.84496285, 13857.71382781,\n",
       "        4016.50406048,   334.00330949,   383.29178756,   596.37151006,\n",
       "        2681.52297439,  7219.21484673,   364.6036258 , 28834.04078576,\n",
       "       21687.2196244 , 11216.28098626,  4045.02803296,   342.11149472,\n",
       "        1137.62516081,  2728.79195565,  6642.62339635,  7796.19728697,\n",
       "         638.91034665,   378.39114887, 48198.4823746 ,   342.28050814,\n",
       "        4221.5595963 ,   335.04403006,   348.54946996,  9512.79424446,\n",
       "       40472.54506838,   384.35926142,   356.52473864,  1139.84362392,\n",
       "        9598.42702831,  1137.18713641,   330.90347737,   770.39657384,\n",
       "        6648.15004649,   340.18887588,   881.87945883,   761.78934664,\n",
       "        4980.43209884,   334.45371313, 40894.9942612 ,  4000.61053436,\n",
       "         333.08897304, 47656.93274132,  9687.26714453, 13593.56819048,\n",
       "        9471.23558123,  7547.77457591, 34151.21311693,   358.80938333,\n",
       "        9424.41994202,  3898.2138148 ,  6677.72550173, 10691.13018605,\n",
       "       15912.63520951,  9536.57802762,  6667.08849079,  6645.33396571,\n",
       "         362.0142898 ,  1139.48357838,  1026.8202903 ,  9822.76030671,\n",
       "       10666.4381551 ,  6372.37270283, 56581.05861136,   332.45935163,\n",
       "        3017.38821138,  9506.41447848,  6396.57394986,  2517.40128108,\n",
       "       10583.42340818, 47932.44374251, 36987.79903719,  9517.52713514,\n",
       "        3895.44311271,   335.45022142,   331.96095772, 56378.14685928,\n",
       "        5428.91860763, 48637.09302961, 46973.238566  ,   381.00929655,\n",
       "         333.65236227,   384.51066425,  3979.38252232,  5428.88812469,\n",
       "        7966.23562129,  9488.03028817, 10731.99340535,   333.90113971,\n",
       "         334.42796746,  2617.61993112,  6671.70111504,   357.1216682 ,\n",
       "        9123.63377725, 57574.62858535,   331.4188742 ,  1040.59365151,\n",
       "        9063.1818638 , 32872.98562009,  7699.46563581,  1097.26223825,\n",
       "         570.72071442,   381.10583592,   336.06913023,   332.07327786,\n",
       "        6692.55870094, 10453.57692315,  6791.48535804,  7822.0025805 ,\n",
       "       10711.3213238 ,  1049.98614088,  6677.35201554, 10794.27245066,\n",
       "        7359.81559428,  7076.59977996, 10729.89650373,  8062.89881668,\n",
       "       45675.34383803, 36726.82049953, 15201.26650794,  9795.07874099,\n",
       "        9163.79136722,   332.96116148,  5563.26496507,  9471.90009675,\n",
       "       10417.66773272, 10149.57597442,  7851.7951123 , 50840.86645079,\n",
       "         333.1464071 ,  3996.75925691,  1012.03281513,  8884.34855643,\n",
       "       56921.1140301 , 36086.85638938,  6726.462108  ,   353.7417994 ,\n",
       "        1139.57233685,   583.57055432, 10350.08624761,  9322.65433464,\n",
       "       10572.60294654, 18552.97687249,  7017.45268259,  2587.62787567,\n",
       "        6649.3229314 ,  3822.26203794,   334.42796746,   334.68964658,\n",
       "        3954.72726862, 10789.715929  ,  7078.40396719, 16869.34883625,\n",
       "         356.16275271,  1183.60600483,  9157.86544819,   333.91067036,\n",
       "        6730.04422159, 60902.10234627,  6904.96519328,   574.57170976,\n",
       "        6697.40631709,  2801.90757636,   342.28050814, 13766.79584151,\n",
       "        9461.5467436 , 10449.34404061,  7965.31271803,  4084.38331805,\n",
       "        1165.7546879 , 60928.54916578,  9496.39143591,   584.04252176,\n",
       "         585.75594309, 49426.28671296,   332.49651169,   664.19990735,\n",
       "       55969.22566973,  9306.91848236,  7952.99298183,  7967.35775903,\n",
       "       10718.53470201, 46642.89239103,   349.35309033,   371.4766804 ,\n",
       "         344.94909319,   385.52867384, 10493.92726271,   600.94442062,\n",
       "       14190.78747375,  8849.30986184, 14136.74014072,  3924.83728972,\n",
       "         413.77773069,  7907.27253641,   589.43645576,   344.10326099,\n",
       "        8595.64463758,  7969.7479345 ,   333.66534528,   343.18443325,\n",
       "         385.08422728,   344.10404545, 17921.27894126, 10728.00439458,\n",
       "         606.06165935,   340.00667568,  1018.01252201,  4032.11088001,\n",
       "        3969.06940563,   752.58425004,  9569.4504031 ,   342.87090187,\n",
       "       10467.27800861,  8469.51322633, 10528.09462655,  1141.20550122,\n",
       "       34254.56748536,   331.58376196, 10566.48425924,  8104.03369234,\n",
       "        9568.41975428,  6654.41767687,   883.59290158, 50886.55110942,\n",
       "        1029.13051315, 27579.42450702,   334.25271446,  1077.2790957 ,\n",
       "         387.12823564,  7555.37652903, 47649.70039004,  4395.9531798 ,\n",
       "        7908.5358624 ,   333.93163251, 36915.4264142 ,  1139.48357838,\n",
       "        8122.82138757, 57449.21278454, 12794.27369536,  1132.31585141,\n",
       "        8068.20837805,  1053.1571691 ,  4049.45486363, 17887.50648983,\n",
       "        7981.10184172,   680.65911839,   385.37902621, 21402.73790438,\n",
       "       10458.38329476,  9502.05310641,   659.34269709, 53294.35737225,\n",
       "        7953.71518848,  7318.44051117, 21700.46860648, 10620.60201774,\n",
       "         330.72219851,  1133.52376097,  9976.44987102,   418.08923205,\n",
       "         335.3455895 , 38055.67733346, 14829.50518372,  6653.81727048,\n",
       "         376.38910518, 10012.30833319,   339.64391621,  8537.42505278,\n",
       "         340.09839752,  2621.1797659 ,  7302.03797012,  9356.7530534 ,\n",
       "         586.47681544,  7411.15692469,   333.29460184,  6645.1865581 ,\n",
       "       57259.03981422,   354.74035899, 10535.61006975,   342.21498648,\n",
       "        9164.5646793 ,   570.98886049,   330.85150813,   591.14762621,\n",
       "         334.54149555,   658.7513106 ,   667.38623605,   351.48771709,\n",
       "         379.5066077 ,   772.6530664 ,  7737.50062459, 10606.85505669,\n",
       "       59125.57443327,   615.83761187,  9052.68383133,  9117.38436836,\n",
       "         333.27214685, 38514.49850133, 42787.63000683,  3943.62265864,\n",
       "         332.49651169, 33165.0474847 ,  1065.92548348,  7250.45994396,\n",
       "        7482.45264543,   343.68870577,   382.63851631,   653.49482396,\n",
       "        6677.0624109 ,  2583.45443463,   897.12393821,  6644.68981722,\n",
       "        7483.60938395,  6625.86770145,  6287.39422021,  7334.68182441,\n",
       "         585.27501341, 57668.14857809,  7994.44809805,   589.64728926,\n",
       "        7669.69902402, 10271.7977464 ,  3897.93517468,  9160.49444653,\n",
       "         333.29460184,   385.61491468,  5547.70417659,  7439.76713328,\n",
       "         333.2908329 ,  6082.65647984, 10667.03256508,  8020.77086295,\n",
       "       10211.49490877,   714.7319047 ,   333.31254086, 36126.18118628,\n",
       "        6662.19912509,   601.32575146, 48019.86105343,  6897.57238933,\n",
       "       39714.67063854, 10434.14491491,  7214.24096854, 14481.16572327,\n",
       "       25424.35027915, 10486.14105125,   332.91257382,   335.91449352,\n",
       "        2664.67138928,  3952.62618704, 45357.47447463,  9462.65748157,\n",
       "        3984.69443521,   590.03799314,   330.72767341,   333.1847293 ,\n",
       "        7565.48468605,  1093.0979849 , 10729.89650373,   331.99380501,\n",
       "         617.43670741,   334.42796746, 47157.34695081, 34012.35692585,\n",
       "       54752.99207895,   334.00463147,   346.24553314,   380.71906827,\n",
       "        7216.26377846, 42657.63884157,  7481.04492119,   332.60411183,\n",
       "        3946.53816728, 10731.40402418,  8169.71161567,   658.8772626 ,\n",
       "        3922.06495557,  9513.44914449,  8357.65255733,   710.47435668,\n",
       "         373.19219045,  1136.44875092,  4000.60774826, 38294.04459776,\n",
       "       57380.14500987,  1617.16982668,   592.12684234,  7597.92822558,\n",
       "       32408.54299615,  9591.63715409,   338.58190506, 10172.0581291 ,\n",
       "         332.49651169, 57330.35427492,  1092.37754192,  9742.90822454,\n",
       "       39479.29386656,  5083.50960074,  4080.20898489,  7946.36558052,\n",
       "        7614.04755838,   330.18324232,  3962.82192218,   383.14604115,\n",
       "        6658.90187239,  8594.10104963,  1444.16925302, 45575.90199121,\n",
       "         332.62069367, 42581.53755987,  7979.05305103,   338.4784133 ,\n",
       "         332.62432326,   383.82094801,  4060.47030467, 10642.90596897,\n",
       "       56917.4388864 , 15461.2704045 ,   332.49103679,  6646.45814189,\n",
       "         332.76724303])"
      ]
     },
     "execution_count": 63,
     "metadata": {},
     "output_type": "execute_result"
    }
   ],
   "source": [
    "y_pred"
   ]
  },
  {
   "cell_type": "code",
   "execution_count": 64,
   "id": "ccc18a07",
   "metadata": {},
   "outputs": [
    {
     "data": {
      "text/plain": [
       "2442    38402.222660\n",
       "1134     5750.799805\n",
       "1510     6419.660156\n",
       "506       386.549011\n",
       "211       228.572998\n",
       "            ...     \n",
       "2406    55724.265630\n",
       "2245    15332.315430\n",
       "275       244.606003\n",
       "1453     6300.859863\n",
       "256       230.190002\n",
       "Name: Close, Length: 805, dtype: float64"
      ]
     },
     "execution_count": 64,
     "metadata": {},
     "output_type": "execute_result"
    }
   ],
   "source": [
    "## actualvalues....\n",
    "y_test"
   ]
  },
  {
   "cell_type": "code",
   "execution_count": 65,
   "id": "90fa37b8",
   "metadata": {},
   "outputs": [
    {
     "data": {
      "text/plain": [
       "<matplotlib.collections.PathCollection at 0x25a4eee2260>"
      ]
     },
     "execution_count": 65,
     "metadata": {},
     "output_type": "execute_result"
    },
    {
     "data": {
      "image/png": "[encoded data removed]",
      "text/plain": [
       "<Figure size 640x480 with 1 Axes>"
      ]
     },
     "metadata": {},
     "output_type": "display_data"
    }
   ],
   "source": [
    "## to find that the model works well using ploting...\n",
    "## this show that the actual and predicted almost same.....align in same places....\n",
    "plt.scatter(y_test,y_pred)"
   ]
  },
  {
   "cell_type": "code",
   "execution_count": 66,
   "id": "bfecffd1",
   "metadata": {},
   "outputs": [],
   "source": [
    "## This above diagram plots the actual and predicted values in scatter plot..it all aligns in same line.."
   ]
  },
  {
   "cell_type": "code",
   "execution_count": 67,
   "id": "1db8ddb4",
   "metadata": {},
   "outputs": [
    {
     "data": {
      "text/plain": [
       "2442    -107.755715\n",
       "1134    -443.770258\n",
       "1510    -256.903739\n",
       "506       11.794127\n",
       "211     -106.013157\n",
       "           ...     \n",
       "2406   -1193.173256\n",
       "2245    -128.954975\n",
       "275      -87.885034\n",
       "1453    -345.598279\n",
       "256     -102.577241\n",
       "Name: Close, Length: 805, dtype: float64"
      ]
     },
     "execution_count": 67,
     "metadata": {},
     "output_type": "execute_result"
    }
   ],
   "source": [
    "## and another method is that the residuals must follow normal distribution...\n",
    "residuals = y_test-y_pred\n",
    "residuals"
   ]
  },
  {
   "cell_type": "code",
   "execution_count": 68,
   "id": "32cc3523",
   "metadata": {},
   "outputs": [
    {
     "data": {
      "text/plain": [
       "<seaborn.axisgrid.FacetGrid at 0x25a4b7d63b0>"
      ]
     },
     "execution_count": 68,
     "metadata": {},
     "output_type": "execute_result"
    },
    {
     "data": {
      "image/png": "[encoded data removed]",
      "text/plain": [
       "<Figure size 500x500 with 1 Axes>"
      ]
     },
     "metadata": {},
     "output_type": "display_data"
    }
   ],
   "source": [
    "sns.displot(residuals)"
   ]
  },
  {
   "cell_type": "code",
   "execution_count": 69,
   "id": "137bce60",
   "metadata": {},
   "outputs": [
    {
     "data": {
      "text/plain": [
       "<seaborn.axisgrid.FacetGrid at 0x25a509ed420>"
      ]
     },
     "execution_count": 69,
     "metadata": {},
     "output_type": "execute_result"
    },
    {
     "data": {
      "image/png": "[encoded data removed]",
      "text/plain": [
       "<Figure size 500x500 with 1 Axes>"
      ]
     },
     "metadata": {},
     "output_type": "display_data"
    }
   ],
   "source": [
    "## and another method is that the residuals must follow normal distribution...\n",
    "## it follows the normal distribution...\n",
    "sns.displot(residuals,kind=\"kde\")"
   ]
  },
  {
   "cell_type": "code",
   "execution_count": 70,
   "id": "d974f83f",
   "metadata": {},
   "outputs": [
    {
     "name": "stdout",
     "output_type": "stream",
     "text": [
      "323311.85656827746\n"
     ]
    }
   ],
   "source": [
    "from sklearn.metrics import mean_squared_error as mse\n",
    "print(mse(y_test,y_pred))"
   ]
  },
  {
   "cell_type": "code",
   "execution_count": 71,
   "id": "114bce12",
   "metadata": {},
   "outputs": [
    {
     "name": "stdout",
     "output_type": "stream",
     "text": [
      "0.9986493665879675\n"
     ]
    }
   ],
   "source": [
    "from sklearn.metrics import r2_score\n",
    "print(r2_score(y_test,y_pred))"
   ]
  },
  {
   "cell_type": "code",
   "execution_count": 72,
   "id": "9c535535",
   "metadata": {},
   "outputs": [
    {
     "data": {
      "text/plain": [
       "array([3983.44864065])"
      ]
     },
     "execution_count": 72,
     "metadata": {},
     "output_type": "execute_result"
    }
   ],
   "source": [
    "rf.predict(x_test[23].reshape(1,-1))  "
   ]
  },
  {
   "cell_type": "code",
   "execution_count": 73,
   "id": "82c73c1a",
   "metadata": {},
   "outputs": [
    {
     "data": {
      "text/plain": [
       "array([[-0.4116301 ,  0.68504142,  0.478739  , -0.44642623, -0.44604931,\n",
       "        -0.44362263, -0.44804387, -0.66059341]])"
      ]
     },
     "execution_count": 73,
     "metadata": {},
     "output_type": "execute_result"
    }
   ],
   "source": [
    "x_test[23].reshape(1,-1)"
   ]
  },
  {
   "cell_type": "code",
   "execution_count": 74,
   "id": "df9e37df",
   "metadata": {},
   "outputs": [],
   "source": [
    "import pickle"
   ]
  },
  {
   "cell_type": "code",
   "execution_count": 75,
   "id": "c9def00b",
   "metadata": {},
   "outputs": [],
   "source": [
    "pickle.dump(rf,open('random.pkl','wb'))"
   ]
  },
  {
   "cell_type": "code",
   "execution_count": 76,
   "id": "96d2c7e0",
   "metadata": {},
   "outputs": [],
   "source": [
    "pickled_model = pickle.load(open('random.pkl','rb'))"
   ]
  },
  {
   "cell_type": "code",
   "execution_count": 77,
   "id": "1e91bd61",
   "metadata": {},
   "outputs": [
    {
     "data": {
      "text/plain": [
       "array([3983.44864065])"
      ]
     },
     "execution_count": 77,
     "metadata": {},
     "output_type": "execute_result"
    }
   ],
   "source": [
    "pickled_model.predict(x_test[23].reshape(1,-1))"
   ]
  },
  {
   "cell_type": "code",
   "execution_count": null,
   "id": "3740cece",
   "metadata": {},
   "outputs": [],
   "source": []
  }
 ],
 "metadata": {
  "kernelspec": {
   "display_name": "Python 3 (ipykernel)",
   "language": "python",
   "name": "python3"
  },
  "language_info": {
   "codemirror_mode": {
    "name": "ipython",
    "version": 3
   },
   "file_extension": ".py",
   "mimetype": "text/x-python",
   "name": "python",
   "nbconvert_exporter": "python",
   "pygments_lexer": "ipython3",
   "version": "3.10.9"
  }
 },
 "nbformat": 4,
 "nbformat_minor": 5
}
